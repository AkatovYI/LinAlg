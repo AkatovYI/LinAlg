{
 "cells": [
  {
   "cell_type": "markdown",
   "metadata": {},
   "source": [
    "# Матрицы и матричные операции. Часть 1"
   ]
  },
  {
   "cell_type": "markdown",
   "metadata": {},
   "source": [
    "__1.__ Установить, какие произведения матриц $AB$ и $BA$ определены, и найти размерности полученных матриц:\n",
    "\n",
    "   а) $A$ — матрица $4\\times 2$, $B$ — матрица $4\\times 2$;\n",
    "    \n",
    "   б) $A$ — матрица $2\\times 5$, $B$ — матрица $5\\times 3$;\n",
    "    \n",
    "   в) $A$ — матрица $8\\times 3$, $B$ — матрица $3\\times 8$;\n",
    "    \n",
    "   г) $A$ — квадратная матрица $4\\times 4$, $B$ — квадратная матрица $4\\times 4$."
   ]
  },
  {
   "cell_type": "markdown",
   "metadata": {},
   "source": [
    "__Решение__\n",
    "\n",
    "__а)__  Произведение __АВ__ не определено, т.к. количество стольцов в __А__ не равно количеству строк __В__ . Произведение __ВА__ определено, размерность __4х4__\n",
    "\n",
    "__б)__  Произведение __АВ__ определено, размерность матриц __2х3__ . Произведение __ВА__  не определено, т.к. количество стольцов в __В__ не равно количеству строк __А__\n",
    "\n",
    "__в)__  Произведение __АВ__ определено, размерность __8х8__ . Произведение __ВА__ определено, размерность __3х3__\n",
    "\n",
    "__г)__  Произведения __АВ__ и __ВА__ определено, размерность __4х4__\n",
    "\n"
   ]
  },
  {
   "cell_type": "code",
   "execution_count": null,
   "metadata": {},
   "outputs": [],
   "source": []
  },
  {
   "cell_type": "markdown",
   "metadata": {},
   "source": [
    "__2.__ Найти сумму и произведение матриц $A=\\begin{pmatrix}\n",
    "1 & -2\\\\ \n",
    "3 & 0\n",
    "\\end{pmatrix}$ и $B=\\begin{pmatrix}\n",
    "4 & -1\\\\ \n",
    "0 & 5\n",
    "\\end{pmatrix}.$"
   ]
  },
  {
   "cell_type": "markdown",
   "metadata": {},
   "source": [
    "__Решение__\n",
    "\n",
    "Сумма двух матриц __А+В__ = \n",
    "$$\\begin{pmatrix}\n",
    "1 & -2\\\\ \n",
    "3 & 0\n",
    "\\end{pmatrix} + \\begin{pmatrix}\n",
    "4 & -1\\\\ \n",
    "0 & 5\n",
    "\\end{pmatrix} = \\begin{pmatrix}\n",
    "1+4 & -2 + -1\\\\ \n",
    "3+0 & 0+5  \n",
    "\\end{pmatrix}= \\begin{pmatrix}\n",
    "5 & -3\\\\ \n",
    "3 & 5  \n",
    "\\end{pmatrix}.$$\n"
   ]
  },
  {
   "cell_type": "markdown",
   "metadata": {},
   "source": [
    "Произведение двух матриц __АВ__ = \n",
    "$$\\begin{pmatrix}\n",
    "1 & -2\\\\ \n",
    "3 & 0\n",
    "\\end{pmatrix} * \\begin{pmatrix}\n",
    "4 & -1\\\\ \n",
    "0 & 5\n",
    "\\end{pmatrix} = \\begin{pmatrix}\n",
    "1\\cdot4 + (-2)\\cdot0 & 1\\cdot(-1) + (-2)\\cdot5\\\\ \n",
    "3\\cdot4 + 0\\cdot0 & 3\\cdot(-1) + 0\\cdot5  \n",
    "\\end{pmatrix}= \\begin{pmatrix}\n",
    "4 & -11\\\\ \n",
    "12 & -3  \n",
    "\\end{pmatrix}.$$"
   ]
  },
  {
   "cell_type": "markdown",
   "metadata": {},
   "source": [
    "Произведение двух матриц __ВA__ = \n",
    "$$\\begin{pmatrix}\n",
    "4 & -1\\\\ \n",
    "0 & 5\n",
    "\\end{pmatrix} * \\begin{pmatrix}\n",
    "1 & -2\\\\ \n",
    "3 & 0\n",
    "\\end{pmatrix} = \\begin{pmatrix}\n",
    "4\\cdot1 + (-1)\\cdot3 & 4\\cdot(-2) + (-1)\\cdot0\\\\ \n",
    "0\\cdot1 + 5\\cdot3 & 0\\cdot(-2) + 5\\cdot0  \n",
    "\\end{pmatrix}= \\begin{pmatrix}\n",
    "1 & -8\\\\ \n",
    "15 & 0  \n",
    "\\end{pmatrix}.$$"
   ]
  },
  {
   "cell_type": "code",
   "execution_count": 1,
   "metadata": {},
   "outputs": [],
   "source": [
    "import numpy as np"
   ]
  },
  {
   "cell_type": "code",
   "execution_count": 3,
   "metadata": {},
   "outputs": [
    {
     "name": "stdout",
     "output_type": "stream",
     "text": [
      "Матрица A\n",
      "[[ 1 -2]\n",
      " [ 3  0]]\n",
      "\n",
      "Матрица B\n",
      "[[ 4 -1]\n",
      " [ 0  5]]\n",
      "\n",
      "Матрица С = A + B\n",
      "[[ 5 -3]\n",
      " [ 3  5]]\n"
     ]
    }
   ],
   "source": [
    "A = np.array([[1, -2], [3, 0]])\n",
    "B = np.array([[4, -1], [0, 5]])\n",
    "\n",
    "print(f'Матрица A\\n{A}\\n')\n",
    "print(f'Матрица B\\n{B}\\n')\n",
    "print(f'Матрица С = A + B\\n{A + B}')"
   ]
  },
  {
   "cell_type": "code",
   "execution_count": 2,
   "metadata": {},
   "outputs": [
    {
     "name": "stdout",
     "output_type": "stream",
     "text": [
      "Матрица A\n",
      "[[ 1 -2]\n",
      " [ 3  0]]\n",
      "\n",
      "Матрица B\n",
      "[[ 4 -1]\n",
      " [ 0  5]]\n",
      "\n",
      "Матрица С = AB\n",
      "[[  4 -11]\n",
      " [ 12  -3]]\n",
      "Матрица С = ВА\n",
      "[[ 1 -8]\n",
      " [15  0]]\n"
     ]
    }
   ],
   "source": [
    "A = np.array([[1, -2], [3, 0]])\n",
    "B = np.array([[4, -1], [0, 5]])\n",
    "\n",
    "print(f'Матрица A\\n{A}\\n')\n",
    "print(f'Матрица B\\n{B}\\n')\n",
    "print(f'Матрица С = AB\\n{np.dot(A, B)}')\n",
    "print(f'Матрица С = ВА\\n{np.dot(B, A)}')"
   ]
  },
  {
   "cell_type": "code",
   "execution_count": null,
   "metadata": {},
   "outputs": [],
   "source": []
  },
  {
   "cell_type": "markdown",
   "metadata": {},
   "source": [
    "__3.__ Из закономерностей сложения и умножения матриц на число можно сделать вывод, что матрицы одного размера образуют линейное пространство. Вычислить линейную комбинацию $3A-2B+4C$ для матриц $A=\\begin{pmatrix}\n",
    "1 & 7\\\\ \n",
    "3 & -6\n",
    "\\end{pmatrix}$, $B=\\begin{pmatrix}\n",
    "0 & 5\\\\ \n",
    "2 & -1\n",
    "\\end{pmatrix}$, $C=\\begin{pmatrix}\n",
    "2 & -4\\\\ \n",
    "1 & 1\n",
    "\\end{pmatrix}.$"
   ]
  },
  {
   "cell_type": "markdown",
   "metadata": {},
   "source": [
    "__Решение__\n",
    "\n",
    "$$3A - 2B + 4C = 3\\cdot\\begin{pmatrix}1 & 7\\\\3 & -6\\end{pmatrix} - 2\\cdot\\begin{pmatrix}0 & 5\\\\2 & -1\\end{pmatrix} + 4\\cdot\\begin{pmatrix}2 & -4\\\\1 & 1\\end{pmatrix} = \\begin{pmatrix}3*1 & 3*7\\\\3*3 & 3*(-6)\\end{pmatrix} - \\begin{pmatrix}2*0 & 2*5\\\\2*2 & 2*(-1)\\end{pmatrix} + \\begin{pmatrix}4*2 & 4*(-4)\\\\4*1 & 4*1\\end{pmatrix} = \\begin{pmatrix}3-0+8 & 21-10-16\\\\9-4+4 & -18+2+4\\end{pmatrix} = \\begin{pmatrix}11 & -5\\\\9 & -12\\end{pmatrix}$$"
   ]
  },
  {
   "cell_type": "code",
   "execution_count": 5,
   "metadata": {},
   "outputs": [
    {
     "name": "stdout",
     "output_type": "stream",
     "text": [
      "Матрица A\n",
      "[[ 1  7]\n",
      " [ 3 -6]]\n",
      "\n",
      "Матрица B\n",
      "[[ 0  5]\n",
      " [ 2 -1]]\n",
      "\n",
      "Матрица C\n",
      "[[ 2 -4]\n",
      " [ 1  1]]\n",
      "\n",
      "Матрица D = 3A - 2B + 4C\n",
      "[[ 11  -5]\n",
      " [  9 -12]]\n"
     ]
    }
   ],
   "source": [
    "A = np.array([[1, 7], [3, -6]])\n",
    "B = np.array([[0, 5], [2, -1]])\n",
    "C = np.array([[2, -4], [1, 1]])\n",
    "\n",
    "print(f'Матрица A\\n{A}\\n')\n",
    "print(f'Матрица B\\n{B}\\n')\n",
    "print(f'Матрица C\\n{C}\\n')\n",
    "print(f'Матрица D = 3A - 2B + 4C\\n{3*A - 2*B + 4*C}')"
   ]
  },
  {
   "cell_type": "code",
   "execution_count": null,
   "metadata": {},
   "outputs": [],
   "source": []
  },
  {
   "cell_type": "markdown",
   "metadata": {},
   "source": [
    "__4.__ Дана матрица $A=\\begin{pmatrix}4 & 1\\\\5 & -2\\\\2 & 3\\end{pmatrix}$. Вычислить $AA^T$ и $A^TA$."
   ]
  },
  {
   "cell_type": "markdown",
   "metadata": {},
   "source": [
    "__Решение__\n",
    "\n",
    "Транспонированная матрица $A^T=\\begin{pmatrix}4 & 5 & 2\\\\1 & -2 & 3\\end{pmatrix}$\n",
    "\n",
    "Произведение $A*A^T = \\begin{pmatrix}4 & 1\\\\5 & -2\\\\2 & 3\\end{pmatrix} * \\begin{pmatrix}4 & 5 & 2\\\\1 & -2 & 3\\end{pmatrix} = \\begin{pmatrix}17 & 18 & 11\\\\18 & 29 & 4\\\\11 & 4 & 13\\end{pmatrix}$\n",
    "\n",
    "Произведение $A^T*A = \\begin{pmatrix}4 & 5 & 2\\\\1 & -2 & 3\\end{pmatrix} * \\begin{pmatrix}4 & 1\\\\5 & -2\\\\2 & 3\\end{pmatrix} = \\begin{pmatrix}45 & 0\\\\0 & 14\\end{pmatrix}$"
   ]
  },
  {
   "cell_type": "code",
   "execution_count": 8,
   "metadata": {},
   "outputs": [
    {
     "name": "stdout",
     "output_type": "stream",
     "text": [
      "Матрица A:\n",
      "[[ 4  1]\n",
      " [ 5 -2]\n",
      " [ 2  3]]\n",
      "Транспонированная матрица:\n",
      "[[ 4  5  2]\n",
      " [ 1 -2  3]]\n",
      "Умножение А*Т:\n",
      "[[17 18 11]\n",
      " [18 29  4]\n",
      " [11  4 13]]\n",
      "Умножение Т*А:\n",
      "[[45  0]\n",
      " [ 0 14]]\n"
     ]
    }
   ],
   "source": [
    "A = np.array([[4, 1], [5, -2], [2, 3]])\n",
    "\n",
    "print(f'Матрица A:\\n{A}')\n",
    "print(f'Транспонированная матрица:\\n{A.T}')\n",
    "print(f'Умножение А*Т:\\n{np.dot(A, A.T)}')\n",
    "print(f'Умножение Т*А:\\n{np.dot(A.T, A)}')"
   ]
  },
  {
   "cell_type": "code",
   "execution_count": null,
   "metadata": {},
   "outputs": [],
   "source": []
  },
  {
   "cell_type": "markdown",
   "metadata": {},
   "source": [
    "__5*.__ Написать на Python функцию для перемножения двух произвольных матриц, не используя NumPy."
   ]
  },
  {
   "cell_type": "code",
   "execution_count": 82,
   "metadata": {},
   "outputs": [
    {
     "name": "stdout",
     "output_type": "stream",
     "text": [
      "Введите размерность матрици А (MxN)(через пробел): 2 3\n",
      "Введите размерность матрицы В (NxK)(через пробел): 3 2\n",
      "Введите через пробел значениея 0 строки матрицы А:\n",
      "4 1\n",
      "Введите через пробел значениея 1 строки матрицы А:\n",
      "5 -2\n",
      "Введите через пробел значениея 2 строки матрицы А:\n",
      "2 3\n",
      "Введите через пробел значениея 0 строки матрицы В:\n",
      "4 5 2\n",
      "Введите через пробел значениея 1 строки матрицы В:\n",
      "1 -2 3\n",
      "Матрица А =\n",
      "   4   1\n",
      "   5  -2\n",
      "   2   3\n",
      "Матрица В =\n",
      "   4   5   2\n",
      "   1  -2   3\n",
      "Матрица С = А*В =\n",
      "  17  18  11\n",
      "  18  29   4\n",
      "  11   4  13\n"
     ]
    }
   ],
   "source": [
    "def printMatrix ( matrix ): \n",
    "   for i in range ( len(matrix) ): \n",
    "      for j in range ( len(matrix[i]) ): \n",
    "          print ( \"{:4d}\".format(matrix[i][j]), end = \"\" ) \n",
    "      print ()\n",
    "\n",
    "while True:\n",
    "    a1, a2 = input('Введите размерность матрици А (MxN)(через пробел): ').split()\n",
    "    b1, b2 = input('Введите размерность матрицы В (NxK)(через пробел): ').split()\n",
    "    a1 = int(a1)\n",
    "    a2 = int(a2)\n",
    "    b1 = int(b1)\n",
    "    b2 = int(b2)\n",
    "    if a2 == b1:\n",
    "        break\n",
    "    else:\n",
    "        print('Размерность матриц не соответствует условиям MxN и NxK')\n",
    "\n",
    "\n",
    "a = [[0 for j in range(a1)] for i in range(a2)]\n",
    "b = [[0 for j in range(b1)] for i in range(b2)]\n",
    "c = [[0 for j in range(b1)] for i in range(a2)]\n",
    "\n",
    "for i in range(a2):\n",
    "    print(f'Введите через пробел значениея {i} строки матрицы А:')\n",
    "    a_list = input().split()\n",
    "    j = 0\n",
    "    for my in a_list:\n",
    "        a[i][j] = int(my)\n",
    "        j += 1\n",
    "\n",
    "for i in range(b2):\n",
    "    print(f'Введите через пробел значениея {i} строки матрицы В:')\n",
    "    a_list = input().split()\n",
    "    j = 0\n",
    "    for my in a_list:\n",
    "        b[i][j] = int(my)\n",
    "        j += 1\n",
    "\n",
    "print('Матрица А =')\n",
    "printMatrix(a)\n",
    "print('Матрица В =')\n",
    "printMatrix(b)\n",
    "\n",
    "for i in range(len(a)):\n",
    "    for j in range(len(b[0])):\n",
    "        k = 0\n",
    "        for p in range(len(a[0])):\n",
    "            k += a[i][p]*b[p][j]\n",
    "        c[i][j] = k\n",
    "print('Матрица С = А*В =')\n",
    "printMatrix(c)\n"
   ]
  },
  {
   "cell_type": "code",
   "execution_count": null,
   "metadata": {},
   "outputs": [],
   "source": []
  },
  {
   "cell_type": "markdown",
   "metadata": {},
   "source": [
    "# Матрицы и матричные операции. Часть 2"
   ]
  },
  {
   "cell_type": "markdown",
   "metadata": {},
   "source": [
    "__1.__ Вычислить определитель:\n",
    "\n",
    "   a)\n",
    "\n",
    "$$\\begin{vmatrix}\n",
    "sinx & -cosx\\\\ \n",
    "cosx & sinx\n",
    "\\end{vmatrix};$$\n",
    "\n",
    "   б)\n",
    "    \n",
    "$$\\begin{vmatrix}\n",
    "4 & 2 & 3\\\\ \n",
    "0 & 5 & 1\\\\ \n",
    "0 & 0 & 9\n",
    "\\end{vmatrix};$$\n",
    "    \n",
    "   в)\n",
    "\n",
    "$$\\begin{vmatrix}\n",
    "1 & 2 & 3\\\\ \n",
    "4 & 5 & 6\\\\ \n",
    "7 & 8 & 9\n",
    "\\end{vmatrix}.$$\n"
   ]
  },
  {
   "cell_type": "markdown",
   "metadata": {},
   "source": [
    "__Решение__\n",
    "\n",
    "__а)__ $$\\begin{vmatrix}sinx & -cosx\\\\cosx & sinx\\end{vmatrix} = а_{11}*а_{22} - а_{12}*а_{21} = sinx*sinx - cosx*(-cosx) = sin^2x + cos^2x = 1;$$\n",
    "\n",
    "__б)__  $$\\begin{vmatrix}4 & 2 & 3\\\\0 & 5 & 1\\\\0 & 0 & 9\\end{vmatrix} = 4*\\begin{vmatrix}5 & 1\\\\0 & 9\\end{vmatrix} - 2*\\begin{vmatrix}0 & 1\\\\0 & 9\\end{vmatrix} + 3*\\begin{vmatrix}0 & 5\\\\0 & 0\\end{vmatrix} = 4*(5*9-0*1) - 2*(0*9-0*1) + 3*(0*0-0*5) = 180;$$\n",
    "\n",
    "__в)__  $$\\begin{vmatrix}1 & 2 & 3\\\\4 & 5 & 6\\\\7 & 8 & 9\\end{vmatrix} = 1*\\begin{vmatrix}5 & 6\\\\8 & 9\\end{vmatrix} - 2*\\begin{vmatrix}4 & 6\\\\7 & 9\\end{vmatrix} + 3*\\begin{vmatrix}4 & 5\\\\7 & 8\\end{vmatrix} = 1*(5*9-8*6) - 2*(4*9-7*6) + 3*(4*8-7*5) = -3 +12 -9 = 0.$$"
   ]
  },
  {
   "cell_type": "code",
   "execution_count": 16,
   "metadata": {},
   "outputs": [
    {
     "name": "stdout",
     "output_type": "stream",
     "text": [
      "Матрица:\n",
      "[[ 1.2246468e-16  1.0000000e+00]\n",
      " [-1.0000000e+00  1.2246468e-16]]\n",
      "Определитель:\n",
      "1\n"
     ]
    }
   ],
   "source": [
    "x = np.pi\n",
    "b = np.array([[np.sin(x), -np.cos(x)], [np.cos(x), np.sin(x)]])\n",
    "print(f'Матрица:\\n{b}')\n",
    "print(f'Определитель:\\n{np.linalg.det(b):.0f}')"
   ]
  },
  {
   "cell_type": "code",
   "execution_count": 12,
   "metadata": {},
   "outputs": [
    {
     "name": "stdout",
     "output_type": "stream",
     "text": [
      "Матрица:\n",
      "[[4 2 3]\n",
      " [0 5 1]\n",
      " [0 0 9]]\n",
      "Определитель:\n",
      "180\n"
     ]
    }
   ],
   "source": [
    "A = np.array([[4, 2, 3], [0, 5, 1], [0, 0, 9]])\n",
    "print(f'Матрица:\\n{A}')\n",
    "print(f'Определитель:\\n{np.linalg.det(A):.0f}')"
   ]
  },
  {
   "cell_type": "code",
   "execution_count": 13,
   "metadata": {},
   "outputs": [
    {
     "name": "stdout",
     "output_type": "stream",
     "text": [
      "Матрица:\n",
      "[[1 2 3]\n",
      " [4 5 6]\n",
      " [7 8 9]]\n",
      "Определитель:\n",
      "0\n"
     ]
    }
   ],
   "source": [
    "B = np.array([[1, 2, 3], [4, 5, 6], [7, 8, 9]])\n",
    "print(f'Матрица:\\n{B}')\n",
    "print(f'Определитель:\\n{np.linalg.det(B):.0f}')"
   ]
  },
  {
   "cell_type": "code",
   "execution_count": null,
   "metadata": {},
   "outputs": [],
   "source": []
  },
  {
   "cell_type": "markdown",
   "metadata": {},
   "source": [
    "__2.__ Определитель матрицы $A$ равен $4$. Найти:\n",
    "\n",
    "   а) $det(A^{2})$;\n",
    "    \n",
    "   б) $det(A^{T})$;\n",
    "    \n",
    "   в) $det(2A)$."
   ]
  },
  {
   "cell_type": "markdown",
   "metadata": {},
   "source": [
    "__Решение__\n",
    "\n",
    "   а) $det(A^{2}) = det(A)*det(A) = 4*4 = 16$;\n",
    "    \n",
    "   б) $det(A^{T}) = det(A) = 4$;\n",
    "    \n",
    "   в) $det(2A) = 2*det(A) = 2*4 = 8$."
   ]
  },
  {
   "cell_type": "code",
   "execution_count": null,
   "metadata": {},
   "outputs": [],
   "source": []
  },
  {
   "cell_type": "markdown",
   "metadata": {},
   "source": [
    "__3.__  Доказать, что матрица\n",
    "\n",
    "$$\\begin{pmatrix}\n",
    "-2 & 7 & -3\\\\ \n",
    "4 & -14 & 6\\\\ \n",
    "-3 & 7 & 13\n",
    "\\end{pmatrix}$$\n",
    "   \n",
    "вырожденная.\n"
   ]
  },
  {
   "cell_type": "markdown",
   "metadata": {},
   "source": [
    "__Решение__\n",
    "\n",
    "$$\\begin{pmatrix}-2 & 7 & -3\\\\4 & -14 & 6\\\\-3 & 7 & 13\\end{pmatrix} = -2*\\begin{vmatrix}-14 & 6\\\\7 & 13\\end{vmatrix} - 7*\\begin{vmatrix}4 & 6\\\\-3 & 13\\end{vmatrix} + (-3)*\\begin{vmatrix}4 & -14\\\\-3 & 7\\end{vmatrix} = -2*(-14*13-7*6) - 7*(4*13-(-3)*6) + (-3)*(4*7-(-3)*(-14)) = 448 - 490 + 42 = 0.$$"
   ]
  },
  {
   "cell_type": "code",
   "execution_count": 17,
   "metadata": {},
   "outputs": [
    {
     "name": "stdout",
     "output_type": "stream",
     "text": [
      "Матрица:\n",
      "[[ -2   7  -3]\n",
      " [  4 -14   6]\n",
      " [ -3   7  13]]\n",
      "Определитель:\n",
      "0\n"
     ]
    }
   ],
   "source": [
    "B = np.array([[-2, 7, -3], [4, -14, 6], [-3, 7, 13]])\n",
    "print(f'Матрица:\\n{B}')\n",
    "print(f'Определитель:\\n{np.linalg.det(B):.0f}')"
   ]
  },
  {
   "cell_type": "code",
   "execution_count": null,
   "metadata": {},
   "outputs": [],
   "source": []
  },
  {
   "cell_type": "markdown",
   "metadata": {},
   "source": [
    "__4.__ Найти ранг матрицы:\n",
    "\n",
    "   а) $\\begin{pmatrix}\n",
    "1 & 2 & 3\\\\ \n",
    "1 & 1 & 1\\\\ \n",
    "2 & 3 & 4\n",
    "\\end{pmatrix};$\n",
    "\n",
    "   б) $\\begin{pmatrix}\n",
    "0 & 0 & 2 & 1\\\\ \n",
    "0 & 0 & 2 & 2\\\\ \n",
    "0 & 0 & 4 & 3\\\\ \n",
    "2 & 3 & 5 & 6\n",
    "\\end{pmatrix}.$"
   ]
  },
  {
   "cell_type": "markdown",
   "metadata": {},
   "source": [
    "__Решение__\n",
    "\n",
    "   а) $\\begin{pmatrix}1 & 2 & 3\\\\1 & 1 & 1\\\\2 & 3 & 4\\end{pmatrix}$ 3 строка является суммой 1 и 2, значит ее можно отбросить $\\begin{pmatrix}1 & 2 & 3\\\\1 & 1 & 1\\end{pmatrix}$ следовательно ранг матрици = 2\n",
    "\n",
    "   б) $\\begin{pmatrix}0 & 0 & 2 & 1\\\\0 & 0 & 2 & 2\\\\0 & 0 & 4 & 3\\\\2 & 3 & 5 & 6\\end{pmatrix}$ 3 строка является суммой 1 2 строк, значит ее можно отбросить $\\begin{pmatrix}0 & 0 & 2 & 1\\\\0 & 0 & 2 & 2\\\\2 & 3 & 5 & 6\\end{pmatrix}$ ранг матрицы = 3"
   ]
  },
  {
   "cell_type": "code",
   "execution_count": 18,
   "metadata": {},
   "outputs": [
    {
     "name": "stdout",
     "output_type": "stream",
     "text": [
      "Матрица:\n",
      "[[1 2 3]\n",
      " [1 1 1]\n",
      " [2 3 4]]\n",
      "Ранг матрицы: 2\n"
     ]
    }
   ],
   "source": [
    "B = np.array([[1, 2, 3], [1, 1, 1], [2, 3, 4]])\n",
    "print(f'Матрица:\\n{B}')\n",
    "print(f'Ранг матрицы: {np.linalg.matrix_rank(B)}')"
   ]
  },
  {
   "cell_type": "code",
   "execution_count": 19,
   "metadata": {},
   "outputs": [
    {
     "name": "stdout",
     "output_type": "stream",
     "text": [
      "Матрица:\n",
      "[[0 0 2 1]\n",
      " [0 0 2 2]\n",
      " [0 0 4 3]\n",
      " [2 3 5 6]]\n",
      "Ранг матрицы: 3\n"
     ]
    }
   ],
   "source": [
    "B = np.array([[0, 0, 2, 1], [0, 0, 2, 2], [0, 0, 4, 3], [2, 3, 5, 6]])\n",
    "print(f'Матрица:\\n{B}')\n",
    "print(f'Ранг матрицы: {np.linalg.matrix_rank(B)}')"
   ]
  },
  {
   "cell_type": "code",
   "execution_count": null,
   "metadata": {},
   "outputs": [],
   "source": []
  }
 ],
 "metadata": {
  "kernelspec": {
   "display_name": "Python 3",
   "language": "python",
   "name": "python3"
  },
  "language_info": {
   "codemirror_mode": {
    "name": "ipython",
    "version": 3
   },
   "file_extension": ".py",
   "mimetype": "text/x-python",
   "name": "python",
   "nbconvert_exporter": "python",
   "pygments_lexer": "ipython3",
   "version": "3.8.5"
  }
 },
 "nbformat": 4,
 "nbformat_minor": 4
}
