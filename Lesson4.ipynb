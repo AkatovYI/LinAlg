{
 "cells": [
  {
   "cell_type": "code",
   "execution_count": null,
   "metadata": {},
   "outputs": [],
   "source": []
  },
  {
   "cell_type": "markdown",
   "metadata": {},
   "source": [
    "# Системы линейных уравнений. Часть 1"
   ]
  },
  {
   "cell_type": "markdown",
   "metadata": {},
   "source": [
    "__1.__ Решить систему уравнений методом Гаусса:\n",
    "\n",
    "$$\\begin{cases}\n",
    "x_{1}+x_{2}-x_{3}-2x_{4}=0, \\\\\n",
    "2x_{1}+x_{2}-x_{3}+x_{4}=-2, \\\\\n",
    "x_{1}+x_{2}-3x_{3}+x_{4}=4.\n",
    "\\end{cases}$$"
   ]
  },
  {
   "cell_type": "markdown",
   "metadata": {},
   "source": [
    "__Решение__\n",
    "\n",
    "преобразуем расширенную матрицу системы путем элементарных преобразований:\n",
    "\n",
    "$$\\begin{pmatrix}\n",
    "\\left.\\begin{matrix}\n",
    "1 & 1 & -1 & -2\\\\ \n",
    "2 & 1 & -1 & 1\\\\ \n",
    "1 & 1 & -3 & 1\n",
    "\\end{matrix}\\right|\n",
    "\\begin{matrix}\n",
    "0\\\\ \n",
    "-2\\\\\n",
    "4\n",
    "\\end{matrix}\n",
    "\\end{pmatrix}$$"
   ]
  },
  {
   "cell_type": "markdown",
   "metadata": {},
   "source": [
    "от 2 строки отнимаем 1 строку, умноженную на 2; от 3 строки отнимаем 1 строку\n",
    "$$\\begin{pmatrix}\n",
    "\\left.\\begin{matrix}\n",
    "1 & 1 & -1 & -2\\\\ \n",
    "0 & -1 & 1 & 5\\\\ \n",
    "0 & 0 & -2 & 3\n",
    "\\end{matrix}\\right|\n",
    "\\begin{matrix}\n",
    "0\\\\ \n",
    "-2\\\\\n",
    "4\n",
    "\\end{matrix}\n",
    "\\end{pmatrix}$$\n"
   ]
  },
  {
   "cell_type": "markdown",
   "metadata": {},
   "source": [
    "2-ую строку умножим на -1\n",
    "$$\\begin{pmatrix}\n",
    "\\left.\\begin{matrix}\n",
    "1 & 1 & -1 & -2\\\\ \n",
    "0 & 1 & -1 & -5\\\\ \n",
    "0 & 0 & -2 & 3\n",
    "\\end{matrix}\\right|\n",
    "\\begin{matrix}\n",
    "0\\\\ \n",
    "2\\\\\n",
    "4\n",
    "\\end{matrix}\n",
    "\\end{pmatrix}$$"
   ]
  },
  {
   "cell_type": "markdown",
   "metadata": {},
   "source": [
    "от 1 строки отнимаем 2 строку\n",
    "$$\\begin{pmatrix}\n",
    "\\left.\\begin{matrix}\n",
    "1 & 0 & 0 & 3\\\\ \n",
    "0 & 1 & -1 & -5\\\\ \n",
    "0 & 0 & -2 & 3\n",
    "\\end{matrix}\\right|\n",
    "\\begin{matrix}\n",
    "-2\\\\ \n",
    "2\\\\\n",
    "4\n",
    "\\end{matrix}\n",
    "\\end{pmatrix}$$"
   ]
  },
  {
   "cell_type": "markdown",
   "metadata": {},
   "source": [
    "3-ую строку делим на -2\n",
    "$$\\begin{pmatrix}\n",
    "\\left.\\begin{matrix}\n",
    "1 & 0 & 0 & 3\\\\ \n",
    "0 & 1 & -1 & -5\\\\ \n",
    "0 & 0 & 1 & -1.5\n",
    "\\end{matrix}\\right|\n",
    "\\begin{matrix}\n",
    "-2\\\\ \n",
    "2\\\\\n",
    "-2\n",
    "\\end{matrix}\n",
    "\\end{pmatrix}$$"
   ]
  },
  {
   "cell_type": "markdown",
   "metadata": {},
   "source": [
    "2 строку складываем с 3 строкой\n",
    "$$\\begin{pmatrix}\n",
    "\\left.\\begin{matrix}\n",
    "1 & 0 & 0 & 3\\\\ \n",
    "0 & 1 & 0 & -6.5\\\\ \n",
    "0 & 0 & 1 & -1.5\n",
    "\\end{matrix}\\right|\n",
    "\\begin{matrix}\n",
    "-2\\\\ \n",
    "0\\\\\n",
    "-2\n",
    "\\end{matrix}\n",
    "\\end{pmatrix}$$"
   ]
  },
  {
   "cell_type": "markdown",
   "metadata": {},
   "source": [
    "__Система имеет множество решений:__\n",
    "\n",
    "$\\begin{cases}\n",
    "x_{1}+3x_{4}=-2, \\\\\n",
    "x_{2}-6.5x_{4}=0, \\\\\n",
    "x_{3}-1.5x_{4}=-2;\n",
    "\\end{cases}$"
   ]
  },
  {
   "cell_type": "code",
   "execution_count": null,
   "metadata": {},
   "outputs": [],
   "source": []
  },
  {
   "cell_type": "markdown",
   "metadata": {},
   "source": [
    "__2.__ Проверить на совместность и выяснить, сколько решений будет иметь система линейных уравнений:\n",
    "\n",
    "   а) $\\begin{cases}\n",
    "3x_{1}-x_{2}+x_{3}=4, \\\\\n",
    "2x_{1}-5x_{2}-3x_{3}=-17, \\\\\n",
    "x_{1}+x_{2}-x_{3}=0;\n",
    "\\end{cases}$\n",
    "    \n",
    "   б) $\\begin{cases}\n",
    "2x_{1}-4x_{2}+6x_{3}=1, \\\\\n",
    "x_{1}-2x_{2}+3x_{3}=-2, \\\\\n",
    "3x_{1}-6x_{2}+9x_{3}=5;\n",
    "\\end{cases}$\n",
    "    \n",
    "   в) $\\begin{cases}\n",
    "x_{1}+2x_{2}+5x_{3}=4, \\\\\n",
    "3x_{1}+x_{2}-8x_{3}=-2. \n",
    "\\end{cases}$"
   ]
  },
  {
   "cell_type": "markdown",
   "metadata": {},
   "source": [
    "__Решение__\n",
    "\n",
    "__а)__ преобразуем расширенную матрицу системы путем элементарных преобразований:\n",
    "\n",
    "$$\\begin{pmatrix}\n",
    "\\left.\\begin{matrix}\n",
    "3 & -1 & 1\\\\ \n",
    "2 & -5 & -3\\\\ \n",
    "1 & 1 & -1\n",
    "\\end{matrix}\\right|\n",
    "\\begin{matrix}\n",
    "4\\\\ \n",
    "-17\\\\\n",
    "0\n",
    "\\end{matrix}\n",
    "\\end{pmatrix}$$"
   ]
  },
  {
   "cell_type": "markdown",
   "metadata": {},
   "source": [
    "делим 1 строку на 3\n",
    "$$\\begin{pmatrix}\n",
    "\\left.\\begin{matrix}\n",
    "1 & -\\frac{1}{3} & \\frac{1}{3}\\\\ \n",
    "2 & -5 & -3\\\\ \n",
    "1 & 1 & -1\n",
    "\\end{matrix}\\right|\n",
    "\\begin{matrix}\n",
    "\\frac{4}{3}\\\\ \n",
    "-17\\\\\n",
    "0\n",
    "\\end{matrix}\n",
    "\\end{pmatrix}$$"
   ]
  },
  {
   "cell_type": "markdown",
   "metadata": {},
   "source": [
    "от 2 строки отнимаем 1 строку, умноженную на 2; от 3 строки отнимаем 1 строку\n",
    "$$\\begin{pmatrix}\n",
    "\\left.\\begin{matrix}\n",
    "1 & -\\frac{1}{3} & \\frac{1}{3}\\\\ \n",
    "0 & -\\frac{13}{3} & -\\frac{11}{3}\\\\ \n",
    "0 & \\frac{4}{3} & -\\frac{4}{3}\n",
    "\\end{matrix}\\right|\n",
    "\\begin{matrix}\n",
    "\\frac{4}{3}\\\\ \n",
    "-\\frac{59}{3}\\\\\n",
    "-\\frac{4}{3}\n",
    "\\end{matrix}\n",
    "\\end{pmatrix}$$"
   ]
  },
  {
   "cell_type": "markdown",
   "metadata": {},
   "source": [
    "2-ую строку делим на $-\\frac{13}{3}$\n",
    "$$\\begin{pmatrix}\n",
    "\\left.\\begin{matrix}\n",
    "1 & -\\frac{1}{3} & \\frac{1}{3}\\\\ \n",
    "0 & 1 & \\frac{11}{13}\\\\ \n",
    "0 & \\frac{4}{3} & -\\frac{4}{3}\n",
    "\\end{matrix}\\right|\n",
    "\\begin{matrix}\n",
    "\\frac{4}{3}\\\\ \n",
    "\\frac{59}{13}\\\\\n",
    "-\\frac{4}{3}\n",
    "\\end{matrix}\n",
    "\\end{pmatrix}$$\n"
   ]
  },
  {
   "cell_type": "markdown",
   "metadata": {},
   "source": [
    "к 1 строке добавляем 2 строку, умноженную на   $\\frac{1}{3}$ ; от 3 строки отнимаем 2 строку, умноженную на $\\frac{4}{3}$\n",
    "$$\\begin{pmatrix}\n",
    "\\left.\\begin{matrix}\n",
    "1 & 0 & \\frac{8}{13}\\\\ \n",
    "0 & 1 & \\frac{11}{13}\\\\ \n",
    "0 & 0 & -\\frac{32}{13}\n",
    "\\end{matrix}\\right|\n",
    "\\begin{matrix}\n",
    "\\frac{37}{13}\\\\ \n",
    "\\frac{59}{13}\\\\\n",
    "-\\frac{96}{13}\n",
    "\\end{matrix}\n",
    "\\end{pmatrix}$$"
   ]
  },
  {
   "cell_type": "markdown",
   "metadata": {},
   "source": [
    "3-ую строку делим на $-\\frac{32}{13}$\n",
    "$$\\begin{pmatrix}\n",
    "\\left.\\begin{matrix}\n",
    "1 & 0 & \\frac{8}{13}\\\\ \n",
    "0 & 1 & \\frac{11}{13}\\\\ \n",
    "0 & 0 & 1\n",
    "\\end{matrix}\\right|\n",
    "\\begin{matrix}\n",
    "\\frac{37}{13}\\\\ \n",
    "\\frac{59}{13}\\\\\n",
    "3\n",
    "\\end{matrix}\n",
    "\\end{pmatrix}$$"
   ]
  },
  {
   "cell_type": "markdown",
   "metadata": {},
   "source": [
    "от 1 строки отнимаем 3 строку, умноженную на $\\frac{8}{13}$ ; от 2 строки отнимаем 3 строку, умноженную на $\\frac{11}{13}$\n",
    "$$\\begin{pmatrix}\n",
    "\\left.\\begin{matrix}\n",
    "1 & 0 & 0\\\\ \n",
    "0 & 1 & 0\\\\ \n",
    "0 & 0 & 1\n",
    "\\end{matrix}\\right|\n",
    "\\begin{matrix}\n",
    "1\\\\ \n",
    "2\\\\\n",
    "3\n",
    "\\end{matrix}\n",
    "\\end{pmatrix}$$"
   ]
  },
  {
   "cell_type": "markdown",
   "metadata": {},
   "source": [
    "Получаем:\n",
    "$\\begin{cases}\n",
    "x_{1}=1, \\\\\n",
    "x_{2}=2, \\\\\n",
    "x_{3}=3;\n",
    "\\end{cases}$\n",
    "\n",
    "Проверяем:\n",
    "$\\begin{cases}\n",
    "3·1 - 2 + 3 = 3 - 2 + 3 = 4, \\\\\n",
    "2·1 - 5·2 - 3·3 = 2 - 10 - 9 = -17, \\\\\n",
    "1 + 2 - 3 = 1 + 2 - 3 = 0;\n",
    "\\end{cases}$\n",
    "\n",
    "Проверка выполнена успешно, система имеет единственное решение, значит совместна."
   ]
  },
  {
   "cell_type": "markdown",
   "metadata": {},
   "source": [
    "__б)__ преобразуем расширенную матрицу системы путем элементарных преобразований:\n",
    "\n",
    "$$\\begin{pmatrix}\n",
    "\\left.\\begin{matrix}\n",
    "2 & -4 & 6\\\\ \n",
    "1 & -2 & 3\\\\ \n",
    "3 & -6 & 9\n",
    "\\end{matrix}\\right|\n",
    "\\begin{matrix}\n",
    "1\\\\ \n",
    "-2\\\\\n",
    "5\n",
    "\\end{matrix}\n",
    "\\end{pmatrix}$$"
   ]
  },
  {
   "cell_type": "markdown",
   "metadata": {},
   "source": [
    "1-ую строку делим на 2\n",
    "$$\\begin{pmatrix}\n",
    "\\left.\\begin{matrix}\n",
    "1 & -2 & 3\\\\ \n",
    "1 & -2 & 3\\\\ \n",
    "3 & -6 & 9\n",
    "\\end{matrix}\\right|\n",
    "\\begin{matrix}\n",
    "0.5\\\\ \n",
    "-2\\\\\n",
    "5\n",
    "\\end{matrix}\n",
    "\\end{pmatrix}$$"
   ]
  },
  {
   "cell_type": "markdown",
   "metadata": {},
   "source": [
    "от 2 строки отнимаем 1 строку; от 3 строки отнимаем 1 строку, умноженную на 3\n",
    "$$\\begin{pmatrix}\n",
    "\\left.\\begin{matrix}\n",
    "1 & -2 & 3\\\\ \n",
    "0 & 0 & 0\\\\ \n",
    "0 & 0 & 0\n",
    "\\end{matrix}\\right|\n",
    "\\begin{matrix}\n",
    "0.5\\\\ \n",
    "-2.5\\\\\n",
    "3.5\n",
    "\\end{matrix}\n",
    "\\end{pmatrix}$$\n",
    "\n",
    "Система уравнений не имеет решения, т.к. вторая и третья строки 0 = -2.5; 0 = 3.5 не имеют смысла."
   ]
  },
  {
   "cell_type": "markdown",
   "metadata": {},
   "source": [
    "__в)__ преобразуем расширенную матрицу системы путем элементарных преобразований:\n",
    "\n",
    "$$\\begin{pmatrix}\n",
    "\\left.\\begin{matrix}\n",
    "1 & 2 & 5\\\\ \n",
    "3 & 1 & -8 \n",
    "\\end{matrix}\\right|\n",
    "\\begin{matrix}\n",
    "4\\\\ \n",
    "-2\n",
    "\\end{matrix}\n",
    "\\end{pmatrix}$$"
   ]
  },
  {
   "cell_type": "markdown",
   "metadata": {},
   "source": [
    "от 2 строки отнимаем 1 строку, умноженную на 3\n",
    "$$\\begin{pmatrix}\n",
    "\\left.\\begin{matrix}\n",
    "1 & 2 & 5\\\\ \n",
    "0 & -5 & -23 \n",
    "\\end{matrix}\\right|\n",
    "\\begin{matrix}\n",
    "4\\\\ \n",
    "-14\n",
    "\\end{matrix}\n",
    "\\end{pmatrix}$$"
   ]
  },
  {
   "cell_type": "markdown",
   "metadata": {},
   "source": [
    "2 строку делим на -5\n",
    "$$\\begin{pmatrix}\n",
    "\\left.\\begin{matrix}\n",
    "1 & 2 & 5\\\\ \n",
    "0 & 1 & 4.6 \n",
    "\\end{matrix}\\right|\n",
    "\\begin{matrix}\n",
    "4\\\\ \n",
    "2.8\n",
    "\\end{matrix}\n",
    "\\end{pmatrix}$$"
   ]
  },
  {
   "cell_type": "markdown",
   "metadata": {},
   "source": [
    "от 1 строки отнимаем 2 строку, умноженную на 2\n",
    "$$\\begin{pmatrix}\n",
    "\\left.\\begin{matrix}\n",
    "1 & 0 & -4.2\\\\ \n",
    "0 & 1 & 4.6 \n",
    "\\end{matrix}\\right|\n",
    "\\begin{matrix}\n",
    "-1.6\\\\ \n",
    "2.8\n",
    "\\end{matrix}\n",
    "\\end{pmatrix}$$"
   ]
  },
  {
   "cell_type": "markdown",
   "metadata": {},
   "source": [
    "Получаем:\n",
    "$\\begin{cases}\n",
    "x_{1} - 4.2x_{3} = -1.6, \\\\\n",
    "x_{2} + 4.6x{3} = 2.8\n",
    "\\end{cases}$\n",
    "\n",
    "Система имеет множество решений."
   ]
  },
  {
   "cell_type": "code",
   "execution_count": null,
   "metadata": {},
   "outputs": [],
   "source": []
  },
  {
   "cell_type": "markdown",
   "metadata": {},
   "source": [
    "__3.__ Проверить на совместность и выяснить, сколько решений будет иметь система линейных уравнений, заданная расширенной матрицей\n",
    "\n",
    "$$\\tilde{A}=\\begin{pmatrix}\n",
    "\\left.\\begin{matrix}\n",
    "1 & 3 & -2 & 4\\\\ \n",
    "0 & 5 & 0 & 1\\\\ \n",
    "0 & 0 & 3 & 0\\\\ \n",
    "0 & 0 & 0 & 2\n",
    "\\end{matrix}\\right|\n",
    "\\begin{matrix}\n",
    "3\\\\ \n",
    "2\\\\\n",
    "4\\\\\n",
    "1\n",
    "\\end{matrix}\n",
    "\\end{pmatrix}.$$"
   ]
  },
  {
   "cell_type": "markdown",
   "metadata": {},
   "source": [
    "__Решение__\n",
    "\n",
    "Произведем преобразование матрицы:\n",
    "2 строку делим на 5\n",
    "$$\\begin{pmatrix}\n",
    "\\left.\\begin{matrix}\n",
    "1 & 3 & -2 & 4\\\\ \n",
    "0 & 1 & 0 & 0.2\\\\ \n",
    "0 & 0 & 3 & 0\\\\ \n",
    "0 & 0 & 0 & 2\n",
    "\\end{matrix}\\right|\n",
    "\\begin{matrix}\n",
    "3\\\\ \n",
    "0.4\\\\\n",
    "4\\\\\n",
    "1\n",
    "\\end{matrix}\n",
    "\\end{pmatrix}.$$"
   ]
  },
  {
   "cell_type": "markdown",
   "metadata": {},
   "source": [
    "от 1 строки отнимаем 2 строку, умноженную на 3\n",
    "$$\\begin{pmatrix}\n",
    "\\left.\\begin{matrix}\n",
    "1 & 0 & -2 & 3.4\\\\ \n",
    "0 & 1 & 0 & 0.2\\\\ \n",
    "0 & 0 & 3 & 0\\\\ \n",
    "0 & 0 & 0 & 2\n",
    "\\end{matrix}\\right|\n",
    "\\begin{matrix}\n",
    "1.8\\\\ \n",
    "0.4\\\\\n",
    "4\\\\\n",
    "1\n",
    "\\end{matrix}\n",
    "\\end{pmatrix}.$$"
   ]
  },
  {
   "cell_type": "markdown",
   "metadata": {},
   "source": [
    "3 строку делим на 3\n",
    "$$\\begin{pmatrix}\n",
    "\\left.\\begin{matrix}\n",
    "1 & 0 & -2 & 3.4\\\\ \n",
    "0 & 1 & 0 & 0.2\\\\ \n",
    "0 & 0 & 1 & 0\\\\ \n",
    "0 & 0 & 0 & 2\n",
    "\\end{matrix}\\right|\n",
    "\\begin{matrix}\n",
    "1.8\\\\ \n",
    "0.4\\\\\n",
    "\\frac{4}{3}\\\\\n",
    "1\n",
    "\\end{matrix}\n",
    "\\end{pmatrix}.$$"
   ]
  },
  {
   "cell_type": "markdown",
   "metadata": {},
   "source": [
    "к 1 строке добавляем 3 строку, умноженную на 2\n",
    "$$\\begin{pmatrix}\n",
    "\\left.\\begin{matrix}\n",
    "1 & 0 & 0 & 3.4\\\\ \n",
    "0 & 1 & 0 & 0.2\\\\ \n",
    "0 & 0 & 1 & 0\\\\ \n",
    "0 & 0 & 0 & 2\n",
    "\\end{matrix}\\right|\n",
    "\\begin{matrix}\n",
    "\\frac{67}{15}\\\\ \n",
    "0.4\\\\\n",
    "\\frac{4}{3}\\\\\n",
    "1\n",
    "\\end{matrix}\n",
    "\\end{pmatrix}.$$"
   ]
  },
  {
   "cell_type": "markdown",
   "metadata": {},
   "source": [
    "4 строку делим на 2\n",
    "$$\\begin{pmatrix}\n",
    "\\left.\\begin{matrix}\n",
    "1 & 0 & 0 & 3.4\\\\ \n",
    "0 & 1 & 0 & 0.2\\\\ \n",
    "0 & 0 & 1 & 0\\\\ \n",
    "0 & 0 & 0 & 1\n",
    "\\end{matrix}\\right|\n",
    "\\begin{matrix}\n",
    "\\frac{67}{15}\\\\ \n",
    "0.4\\\\\n",
    "\\frac{4}{3}\\\\\n",
    "0.5\n",
    "\\end{matrix}\n",
    "\\end{pmatrix}.$$"
   ]
  },
  {
   "cell_type": "markdown",
   "metadata": {},
   "source": [
    "от 1 строки отнимаем 4 строку, умноженную на 3.4; от 2 строки отнимаем 4 строку, умноженную на 0.2\n",
    "$$\\begin{pmatrix}\n",
    "\\left.\\begin{matrix}\n",
    "1 & 0 & 0 & 0\\\\ \n",
    "0 & 1 & 0 & 0\\\\ \n",
    "0 & 0 & 1 & 0\\\\ \n",
    "0 & 0 & 0 & 1\n",
    "\\end{matrix}\\right|\n",
    "\\begin{matrix}\n",
    "\\frac{83}{30}\\\\ \n",
    "0.3\\\\\n",
    "\\frac{4}{3}\\\\\n",
    "0.5\n",
    "\\end{matrix}\n",
    "\\end{pmatrix}.$$"
   ]
  },
  {
   "cell_type": "markdown",
   "metadata": {},
   "source": [
    "Получаем:\n",
    "$\\begin{cases}\n",
    "x_{1}=\\frac{83}{30}, \\\\\n",
    "x_{2}=0.3, \\\\\n",
    "x_{3}=\\frac{4}{3}, \\\\\n",
    "x_{4}=0.5;\n",
    "\\end{cases}$\n",
    "\n",
    "Делаем проверку:\n",
    "$\\begin{cases}\n",
    "\\frac{83}{30} + 3·0.3 - 2·\\frac{4}{3} + 4·0.5 = \\frac{83}{30} + 0.9 - \\frac{8}{3} + 2 = 3, \\\\\n",
    "5·0.3 + 0.5 = 1.5 + 0.5 = 2, \\\\\n",
    "3·\\frac{4}{3} = 4 = 4, \\\\\n",
    "2·0.5 = 1 = 1\n",
    "\\end{cases}$\n",
    "\n",
    "Проверка выполнена успешно, система имеет единственное решение и является совместной."
   ]
  },
  {
   "cell_type": "code",
   "execution_count": null,
   "metadata": {},
   "outputs": [],
   "source": []
  },
  {
   "cell_type": "markdown",
   "metadata": {},
   "source": [
    "__4.__ Дана система линейных уравнений, заданная расширенной матрицей\n",
    "\n",
    "$$\\tilde{A}=\\begin{pmatrix}\n",
    "\\left.\\begin{matrix}\n",
    "1 & 2 & 3\\\\ \n",
    "4 & 5 & 6\\\\ \n",
    "7 & 8 & 9\n",
    "\\end{matrix}\\right|\n",
    "\\begin{matrix}\n",
    "a\\\\ \n",
    "b\\\\\n",
    "c\n",
    "\\end{matrix}\n",
    "\\end{pmatrix}.$$\n",
    "\n",
    "Найти соотношение между параметрами $a$, $b$ и $c$, при которых система является несовместной."
   ]
  },
  {
   "cell_type": "markdown",
   "metadata": {},
   "source": [
    "__Решение__\n",
    "\n",
    "Для определения значей $a, b$ и $c$ найдем ранги матрицы $A$ и $\\tilde{A}$<br>\n",
    "Причем:<br>\n",
    "1) если $rankA=rank \\tilde A=n$, где $n$ — число неизвестных, то система определена, т. е. имеет единственное решение;<br>\n",
    "2) если $rankA=rank \\tilde A<n$, то система имеет бесконечное количество решений;<br>\n",
    "3) если $rankA<rank \\tilde A$, то система несовместна.\n",
    "\n",
    "для начала примем значения $a = 0$, $b = 0$, $c = 0$"
   ]
  },
  {
   "cell_type": "code",
   "execution_count": 11,
   "metadata": {},
   "outputs": [
    {
     "name": "stdout",
     "output_type": "stream",
     "text": [
      "Матрица a\n",
      "[[1 2 3]\n",
      " [4 5 6]\n",
      " [7 8 9]]\n",
      "Ранг матрицы a: 2\n",
      "Матрица b\n",
      "[[1 2 3 0]\n",
      " [4 5 6 0]\n",
      " [7 8 9 0]]\n",
      "Ранг матрицы b: 2\n"
     ]
    }
   ],
   "source": [
    "import numpy as np\n",
    "\n",
    "a = np.array([[1, 2, 3], [4, 5, 6], [7, 8, 9]])\n",
    "b = np.array([[1, 2, 3, 0], [4, 5, 6, 0], [7, 8, 9, 0]])\n",
    "\n",
    "print(f'Матрица a\\n{a}')\n",
    "print(f'Ранг матрицы a: {np.linalg.matrix_rank(a)}')\n",
    "print(f'Матрица b\\n{b}')\n",
    "print(f'Ранг матрицы b: {np.linalg.matrix_rank(b)}')"
   ]
  },
  {
   "cell_type": "markdown",
   "metadata": {},
   "source": [
    "При таких значениях $a$, $b$ и $c$ $rankA=rank \\tilde A<n$ система имеет бесконечное количество решений;<br>\n",
    "\n",
    "Присвоим значение $a = 1$, $b = 0$, $c = 0$"
   ]
  },
  {
   "cell_type": "code",
   "execution_count": 16,
   "metadata": {},
   "outputs": [
    {
     "name": "stdout",
     "output_type": "stream",
     "text": [
      "Матрица b1\n",
      "[[1 2 3 1]\n",
      " [4 5 6 0]\n",
      " [7 8 9 0]]\n",
      "Ранг матрицы b1: 3\n"
     ]
    }
   ],
   "source": [
    "b1 = np.array([[1, 2, 3, 1], [4, 5, 6, 0], [7, 8, 9, 0]])\n",
    "print(f'Матрица b1\\n{b1}')\n",
    "print(f'Ранг матрицы b1: {np.linalg.matrix_rank(b1)}')"
   ]
  },
  {
   "cell_type": "markdown",
   "metadata": {},
   "source": [
    "При таких значениях $a$, $b$ и $c$ $rankA<rank \\tilde A$ система несовместна."
   ]
  },
  {
   "cell_type": "code",
   "execution_count": null,
   "metadata": {},
   "outputs": [],
   "source": []
  },
  {
   "cell_type": "markdown",
   "metadata": {},
   "source": [
    "# Системы линейных уравнений. Часть 2"
   ]
  },
  {
   "cell_type": "markdown",
   "metadata": {},
   "source": [
    "__1.__ Решить систему уравнений методом Крамера:\n",
    "\n",
    "   а) $\\begin{cases}\n",
    "x_{1}-2x_{2}=1 \\\\\n",
    "3x_{1}-4x_{2}=7\n",
    "\\end{cases}$\n",
    "    \n",
    "   б) $\\begin{cases}\n",
    "2x_{1}-x_{2}+5x_{3}=10 \\\\\n",
    "x_{1}+x_{2}-3x_{3}=-2 \\\\\n",
    "2x_{1}+4x_{2}+x_{3}=1\n",
    "\\end{cases}$"
   ]
  },
  {
   "cell_type": "markdown",
   "metadata": {},
   "source": [
    "__Решение__\n",
    "\n",
    "__а)__ Найдем определитель матрицы коэффициентов:\n",
    "\n",
    "$$detA=\\begin{vmatrix}\n",
    "1 & -2\\\\ \n",
    "3 & -4 \n",
    "\\end{vmatrix}=\n",
    "=1 \\cdot(-4)-3\\cdot (-2)=-4 + 6 = 2\\neq 0,$$\n",
    "\n",
    "следовательно, система совместна."
   ]
  },
  {
   "cell_type": "markdown",
   "metadata": {},
   "source": [
    "Найдем определители $detA_{1}$, $detA_{2}$:\n",
    "\n",
    "$$detA_{1}=\\begin{vmatrix}\n",
    "1 & -2\\\\ \n",
    "7 & -4 \n",
    "\\end{vmatrix}=\n",
    "=1 \\cdot(-4)-7\\cdot (-2)=-4 + 14 = 10,$$\n",
    "\n",
    "$$detA_{2}=\\begin{vmatrix}\n",
    "1 & 1\\\\ \n",
    "3 & 7 \n",
    "\\end{vmatrix}=\n",
    "=1 \\cdot7-3\\cdot 1=7 - 3 = 4$$"
   ]
  },
  {
   "cell_type": "markdown",
   "metadata": {},
   "source": [
    "Найдем решение по формулам Крамера:\n",
    "\n",
    "$$x_{1} = \\frac{detA_{1}}{detA} = \\frac{10}{2}=5,$$\n",
    "\n",
    "$$x_{2} = \\frac{detA_{2}}{detA} = \\frac{4}{2}=2$$"
   ]
  },
  {
   "cell_type": "markdown",
   "metadata": {},
   "source": [
    "__в)__ Найдем определитель матрицы коэффициентов:\n",
    "\n",
    "$$detA=\\begin{vmatrix}\n",
    "2 & -1 & 5\\\\ \n",
    "1 & 1 & -3\\\\\n",
    "2 & 4 & 1\n",
    "\\end{vmatrix}=\n",
    "=2 \\cdot 1 \\cdot 1 + (-1) \\cdot (-3) \\cdot 2 + 5 \\cdot 1 \\cdot 4 - 5 \\cdot 1 \\cdot 2 - 2 \\cdot (-3) \\cdot 4 - (-1) \\cdot 1 \\cdot 1 = 2 + 6 + 20 - 10 + 24 + 1 = 43\\neq 0,$$\n",
    "\n",
    "следовательно, система совместна."
   ]
  },
  {
   "cell_type": "markdown",
   "metadata": {},
   "source": [
    "Найдем определители $detA_{1}$, $detA_{2}$, $detA_{3}$:\n",
    "\n",
    "$$detA_{1}=\\begin{vmatrix}\n",
    "10 & -1 & 5\\\\ \n",
    "-2 & 1 & -3\\\\\n",
    "1 & 4 & 1\n",
    "\\end{vmatrix}=\n",
    "=10 \\cdot 1 \\cdot 1 + (-1) \\cdot (-3) \\cdot 1 + 5 \\cdot (-2) \\cdot 4 - 5 \\cdot 1 \\cdot 1 - 10 \\cdot (-3) \\cdot 4 - (-1) \\cdot (-2) \\cdot 1 = 10 + 3 - 40 - 5 + 120 - 2 = 86,$$\n",
    "\n",
    "$$detA_{2}=\\begin{vmatrix}\n",
    "2 & 10 & 5\\\\ \n",
    "1 & -2 & -3\\\\\n",
    "2 & 1 & 1\n",
    "\\end{vmatrix}=\n",
    "=2 \\cdot (-2) \\cdot 1 + 10 \\cdot (-3) \\cdot 2 + 5 \\cdot 1 \\cdot 1 - 5 \\cdot (-2) \\cdot 2 - 2 \\cdot (-3) \\cdot 1 - 10 \\cdot 1 \\cdot 1 = -4 - 60 + 5 + 20 + 6 - 10 = -43,$$\n",
    "\n",
    "$$detA_{3}=\\begin{vmatrix}\n",
    "2 & -1 & 10\\\\ \n",
    "1 & 1 & -2\\\\\n",
    "2 & 4 & 1\n",
    "\\end{vmatrix}=\n",
    "=2 \\cdot 1 \\cdot 1 + (-1) \\cdot (-2) \\cdot 2 + 10 \\cdot 1 \\cdot 4 - 10 \\cdot 1 \\cdot 2 - 2 \\cdot (-2) \\cdot 4 - (-1) \\cdot 1 \\cdot 1 = 2 + 4 + 40 - 20 + 16 + 1 = 43,$$"
   ]
  },
  {
   "cell_type": "markdown",
   "metadata": {},
   "source": [
    "Найдем решение по формулам Крамера:\n",
    "\n",
    "$$x_{1} = \\frac{detA_{1}}{detA} = \\frac{86}{43}=2,$$\n",
    "\n",
    "$$x_{2} = \\frac{detA_{2}}{detA} = -\\frac{43}{43}=-1$$\n",
    "\n",
    "$$x_{3} = \\frac{detA_{3}}{detA} = \\frac{43}{43}=1$$"
   ]
  },
  {
   "cell_type": "code",
   "execution_count": null,
   "metadata": {},
   "outputs": [],
   "source": []
  },
  {
   "cell_type": "markdown",
   "metadata": {},
   "source": [
    "__2*.__ Найти $L$-матрицу $LU$-разложения для матрицы коэффициентов:\n",
    "\n",
    "   а)$$\\begin{pmatrix}\n",
    "1 & 2 & 4 \\\\ \n",
    "2 & 9 & 12 \\\\ \n",
    "3 & 26 & 30\n",
    "\\end{pmatrix}$$\n",
    "    \n",
    "   б)$$\\begin{pmatrix}\n",
    "1 & 1 & 2 & 4\\\\ \n",
    "2 & 5 & 8 & 9\\\\ \n",
    "3 & 18 & 29 & 18\\\\\n",
    "4 & 22 & 53 & 33\n",
    "\\end{pmatrix}$$"
   ]
  },
  {
   "cell_type": "markdown",
   "metadata": {},
   "source": [
    "__Решение__\n",
    "\n",
    "__а)__ Представим $A$ в виде: $A = LU$\n",
    "\n",
    "Вычисляем значение элемента $L_{11} = 1$\n",
    "\n",
    "$U_{11} = \\frac{1}{1} = 1$\n",
    "\n",
    "$U_{12} = \\frac{2}{1} = 2$\n",
    "\n",
    "$U_{13} = \\frac{4}{1} = 4$\n",
    "\n",
    "Вычисляем значение элемента $L_{21} = 2$\n",
    "\n",
    "Вычисляем значение элемента $L_{22} = 9 - (2 \\cdot 2) = 5$\n",
    "\n",
    "$U_{22} = \\frac{5}{5} = 1$\n",
    "\n",
    "$U_{23} = \\frac{4}{5} = 0.8$\n",
    "\n",
    "Вычисляем значение элемента $L_{31} = 3$\n",
    "\n",
    "Вычисляем значение элемента $L_{32} = 26 - (3 \\cdot 2) = 20$\n",
    "\n",
    "Вычисляем значение элемента $L_{33}= 30 - (3 \\cdot 4 + 20 \\cdot 0.8) = 2$\n",
    "\n",
    "$U_{33} = \\frac{2}{2} = 1$"
   ]
  },
  {
   "cell_type": "markdown",
   "metadata": {},
   "source": [
    "Получили матрицы $L$ и $U$: $$L = \\begin{pmatrix}1 & 0 & 0\\\\2 & 5 & 0\\\\3 & 20 & 2\\end{pmatrix}$$\n",
    "$$U = \\begin{pmatrix}1 & 2 & 4\\\\0 & 1 & 0.8\\\\0 & 0 & 1\\end{pmatrix}$$"
   ]
  },
  {
   "cell_type": "markdown",
   "metadata": {},
   "source": [
    "Проверим: $A = LU$ $$A = \\begin{pmatrix}1 & 0 & 0\\\\2 & 5 & 0\\\\3 & 20 & 2\\end{pmatrix} \\cdot \\begin{pmatrix}1 & 2 & 4\\\\0 & 1 & 0.8\\\\0 & 0 & 1\\end{pmatrix} = \\begin{pmatrix}1 & 2 & 4 \\\\ 2 & 9 & 12 \\\\ 3 & 26 & 30\\end{pmatrix}$$"
   ]
  },
  {
   "cell_type": "markdown",
   "metadata": {},
   "source": [
    "__б)__ Представим $A$ в виде: $A = LU$\n",
    "\n",
    "Вычисляем значение элемента $L_{11} = 1$\n",
    "\n",
    "$U_{11} = \\frac{1}{1} = 1$\n",
    "\n",
    "$U_{12} = \\frac{1}{1} = 1$\n",
    "\n",
    "$U_{13} = \\frac{2}{1} = 2$\n",
    "\n",
    "$U_{14} = \\frac{4}{1} = 4$\n",
    "\n",
    "Вычисляем значение элемента $L_{21} = 2$\n",
    "\n",
    "Вычисляем значение элемента $L_{22} = 5 - (2 \\cdot 1) = 3$\n",
    "\n",
    "$U_{22} = \\frac{3}{3} = 1$\n",
    "\n",
    "$U_{23} = \\frac{4}{3}$\n",
    "\n",
    "$U_{24} = \\frac{1}{3}$\n",
    "\n",
    "Вычисляем значение элемента $L_{31} = 3$\n",
    "\n",
    "Вычисляем значение элемента $L_{32} = 18 - (3 \\cdot 1) = 15$\n",
    "\n",
    "Вычисляем значение элемента $L_{33} = 29 - (3 \\cdot 2 + 15 \\cdot 1.33) = 3$\n",
    "\n",
    "$U_{33} = \\frac{3}{3} = 1$\n",
    "\n",
    "$U_{34} = \\frac{1}{3}$\n",
    "\n",
    "Вычисляем значение элемента $L_{41} = 4$\n",
    "\n",
    "Вычисляем значение элемента $L_{42} = 22 - (4 \\cdot 1) = 18$\n",
    "\n",
    "Вычисляем значение элемента $L_{43} = 53 - (4 \\cdot 2 + 18 \\cdot 1.33) = 21$\n",
    "\n",
    "Вычисляем значение элемента $L_{44} = 33 - (4 \\cdot 4 + 18 \\cdot 0.33 + 21 \\cdot 0.33) = 4$\n",
    "\n",
    "$U_{44} = \\frac{4}{4} = 1$"
   ]
  },
  {
   "cell_type": "markdown",
   "metadata": {},
   "source": [
    "Получили матрицы $L$ и $U$: $$L = \\begin{pmatrix}1 & 0 & 0 & 0\\\\2 & 3 & 0 & 0\\\\3 & 15 & 3 & 0\\\\4 & 18 & 21 & 4\\end{pmatrix}$$\n",
    "$$U = \\begin{pmatrix}1 & 1 & 2 & 4\\\\0 & 1 & \\frac{4}{3} & \\frac{1}{3}\\\\0 & 0 & 1 & \\frac{1}{3}\\\\0 & 0 & 0 & 1\\end{pmatrix}$$"
   ]
  },
  {
   "cell_type": "markdown",
   "metadata": {},
   "source": [
    "Проверим: $A = LU$ $$A = \\begin{pmatrix}1 & 0 & 0 & 0\\\\2 & 3 & 0 & 0\\\\3 & 15 & 3 & 0\\\\4 & 18 & 21 & 4\\end{pmatrix} \\cdot \\begin{pmatrix}1 & 1 & 2 & 4\\\\0 & 1 & \\frac{4}{3} & \\frac{1}{3}\\\\0 & 0 & 1 & \\frac{1}{3}\\\\0 & 0 & 0 & 1\\end{pmatrix} = \\begin{pmatrix}1 & 1 & 2 & 4\\\\2 & 5 & 8 & 9\\\\3 & 18 & 29 & 18\\\\4 & 22 & 53 & 33\\end{pmatrix}$$"
   ]
  },
  {
   "cell_type": "code",
   "execution_count": null,
   "metadata": {},
   "outputs": [],
   "source": []
  },
  {
   "cell_type": "markdown",
   "metadata": {},
   "source": [
    "__3*.__ Решить систему линейных уравнений методом $LU$-разложения\n",
    "\n",
    "$$\\begin{cases}\n",
    "2x_{1}+x_{2}+3x_{3}=1 \\\\\n",
    "11x_{1}+7x_{2}+5x_{3}=-6 \\\\\n",
    "9x_{1}+8x_{2}+4x_{3}=-5\n",
    "\\end{cases}$$"
   ]
  },
  {
   "cell_type": "markdown",
   "metadata": {},
   "source": [
    "__Решение__\n",
    "\n",
    "Представим систему уравнений в виде матрицы:\n",
    "$$A=\\begin{pmatrix}\n",
    "\\left.\\begin{matrix}\n",
    "2 & 1 & 3\\\\ \n",
    "11 & 7 & 5\\\\ \n",
    "9 & 8 & 4\n",
    "\\end{matrix}\\right|\n",
    "\\begin{matrix}\n",
    "1\\\\ \n",
    "-6\\\\\n",
    "-5\n",
    "\\end{matrix}\n",
    "\\end{pmatrix}.$$"
   ]
  },
  {
   "cell_type": "markdown",
   "metadata": {},
   "source": [
    "Представим $A$ в виде: $A = LU$\n",
    "\n",
    "Вычисляем значение элемента $L_{11} = 2$\n",
    "\n",
    "$U_{11} = \\frac{2}{2} = 1$\n",
    "\n",
    "$U_{12} = \\frac{1}{2} = 0.5$\n",
    "\n",
    "$U_{13} = \\frac{3}{2} = 1.5$\n",
    "\n",
    "Вычисляем значение элемента $L_{21} = 11$\n",
    "\n",
    "Вычисляем значение элемента $L_{22} = 7 - (11 \\cdot 0.5) = 1.5$\n",
    "\n",
    "$U_{22} = \\frac{1.5}{1.5} = 1$\n",
    "\n",
    "$U_{23} = \\frac{-11.5}{1.5} = -7.667$\n",
    "\n",
    "Вычисляем значение элемента $L_{31} = 9$\n",
    "\n",
    "Вычисляем значение элемента $L_{32} = 8 - (9 \\cdot 0.5) = 3.5$\n",
    "\n",
    "Вычисляем значение элемента $L_{33} = 4 - (9 \\cdot 1.5 + 3.5 \\cdot -7.67) = 17.33$\n",
    "\n",
    "$U_{33} = \\frac{17.333}{17.333} = 1$"
   ]
  },
  {
   "cell_type": "markdown",
   "metadata": {},
   "source": [
    "Получили матрицы $L$ и $U$: $$L = \\begin{pmatrix}2 & 0 & 0\\\\11 & 1.5 & 0\\\\9 & 3.5 & 17.333\\end{pmatrix}$$\n",
    "$$U = \\begin{pmatrix}1 & 0.5 & 1.5\\\\0 & 1 & -7.667\\\\0 & 0 & 1\\end{pmatrix}$$"
   ]
  },
  {
   "cell_type": "markdown",
   "metadata": {},
   "source": [
    "Вычисляем значения $y_i$\n",
    "\n",
    "$y_1 = \\frac{1}{2} = 0.5$\n",
    "\n",
    "$y_2 = \\frac{-6 - 11 \\cdot 0.5}{1.5} = -7.67$\n",
    "\n",
    "$y_3 = \\frac{-5 - 9 \\cdot 0.5 + 3.5 \\cdot (-7.67)}{17.33} = 1$\n",
    "\n",
    "Вычисляем значения $x_i$\n",
    "\n",
    "$x_3 = y_3 = 1$\n",
    "\n",
    "$x_2 = -7.67 - (-7.67 \\cdot 1 ) = 0$\n",
    "\n",
    "$x_1 = 0.5 - (0.5 \\cdot 0 + 1.5 \\cdot 1 ) = -1$"
   ]
  },
  {
   "cell_type": "markdown",
   "metadata": {},
   "source": [
    "Подставим полученные значения $x_i$ в уравнение:\n",
    "$$\\begin{cases}\n",
    "2 \\cdot (-1) + 0 + 3 \\cdot 1 = 1 \\\\\n",
    "11 \\cdot (-1) + 7 \\cdot 0 + 5 \\cdot 1 = -6 \\\\\n",
    "9 \\cdot (-1) + 8 \\cdot 0 + 4 \\cdot 1 = -5\n",
    "\\end{cases}$$\n",
    "\n",
    "Уравнение решено."
   ]
  },
  {
   "cell_type": "code",
   "execution_count": null,
   "metadata": {},
   "outputs": [],
   "source": []
  },
  {
   "cell_type": "markdown",
   "metadata": {},
   "source": [
    "__4*.__ Решить систему линейных уравнений методом Холецкого\n",
    "\n",
    "$$\\begin{cases}\n",
    "81x_{1}-45x_{2}+45x_{3}=531 \\\\\n",
    "-45x_{1}+50x_{2}-15x_{3}=-460 \\\\\n",
    "45x_{1}-15x_{2}+38x_{3}=193\n",
    "\\end{cases}$$"
   ]
  },
  {
   "cell_type": "markdown",
   "metadata": {},
   "source": [
    "__Решение__\n",
    "\n",
    "Представим сестему уравнений в виде матриц:\n",
    "$$А = \\begin{pmatrix}81 & -45 & 45 \\\\-45 & 50 & -15 \\\\45 & -15 & 38\\end{pmatrix}; b = \\begin{pmatrix}531\\\\-460\\\\193\\end{pmatrix}$$"
   ]
  },
  {
   "cell_type": "markdown",
   "metadata": {},
   "source": [
    "Находим элементы матрицы L:\n",
    "\n",
    "$l_{11} = \\sqrt{81} = 9;$  $l_{21} = \\frac{-45}{9} = -5;$  $l_{31} = \\frac{45}{9} = 5$\n",
    "\n",
    "$l_{22} = \\sqrt{50 - (-5)^2} = 5;$   $l_{32} = \\frac{-15 - 5(-5)}{5} = 2$\n",
    "\n",
    "$l_{33} = \\sqrt{38 - 5^2 - 2^2} = 3$"
   ]
  },
  {
   "cell_type": "markdown",
   "metadata": {},
   "source": [
    "Получили разложение матрицы $A = LL^T$\n",
    "$$А = LL^T = \\begin{pmatrix}9 & 0 & 0 \\\\-5 & 5 & 0 \\\\5 & 2 & 3\\end{pmatrix} \\cdot \\begin{pmatrix}9 & -5 & 5 \\\\0 & 5 & 2 \\\\0 & 0 & 3\\end{pmatrix}$$"
   ]
  },
  {
   "cell_type": "markdown",
   "metadata": {},
   "source": [
    "Решаем полученные системы $L_y = b$\n",
    "\n",
    "$$\\begin{cases}\n",
    "9 \\cdot y_1 + 0 \\cdot y_2 + 0 \\cdot y_3 = 531 \\\\\n",
    "-5 \\cdot y_1 + 5 \\cdot y_2 + 0 \\cdot y_3 = -460 \\\\\n",
    "5 \\cdot y_1 + 2 \\cdot y_2 + 3 \\cdot y_3 = 193\n",
    "\\end{cases}$$\n",
    "\n",
    "Получаем: $y_1 = 59$;  $y_2 = -33$;  $y_3 = -12$"
   ]
  },
  {
   "cell_type": "markdown",
   "metadata": {},
   "source": [
    "Теперь решаем систему уравнений ${L^T}_x = y$\n",
    "\n",
    "$$\\begin{cases}\n",
    "9 \\cdot x_1 + -5 \\cdot x_2 + 5 \\cdot x_3 = 59 \\\\\n",
    "0 \\cdot x_1 + 5 \\cdot x_2 + 2 \\cdot x_3 = -33 \\\\\n",
    "0 \\cdot x_1 + 0 \\cdot x_2 + 3 \\cdot x_3 = -12\n",
    "\\end{cases}$$\n",
    "\n",
    "Получаем: $x_1 = 6$; $x_2 = -5$;  $x_3 = -4$"
   ]
  },
  {
   "cell_type": "markdown",
   "metadata": {},
   "source": [
    "Для проверки подставим значения в уравнения:\n",
    "\n",
    "$$\\begin{cases}\n",
    "81x_{1}-45x_{2}+45x_{3}=531 \\\\\n",
    "-45x_{1}+50x_{2}-15x_{3}=-460 \\\\\n",
    "45x_{1}-15x_{2}+38x_{3}=193\n",
    "\\end{cases}\n",
    "\\rightarrow\n",
    "\\begin{cases}\n",
    "81 \\cdot 6 - 45 \\cdot (-5) + 45 \\cdot (-4) = 531 \\\\\n",
    "-45 \\cdot 6 + 50 \\cdot (-5) - 15 \\cdot (-4) = -460 \\\\\n",
    "45 \\cdot 6 - 15 \\cdot (-5) + 38 \\cdot (-4) = 193\n",
    "\\end{cases}$$\n",
    "\n",
    "Уравнение решено."
   ]
  },
  {
   "cell_type": "code",
   "execution_count": null,
   "metadata": {},
   "outputs": [],
   "source": []
  },
  {
   "cell_type": "markdown",
   "metadata": {},
   "source": [
    "__5*.__ Написать на Python программу с реализацией одного из изученных алгоритмов решения СЛАУ."
   ]
  },
  {
   "cell_type": "code",
   "execution_count": null,
   "metadata": {},
   "outputs": [],
   "source": []
  }
 ],
 "metadata": {
  "kernelspec": {
   "display_name": "Python 3",
   "language": "python",
   "name": "python3"
  },
  "language_info": {
   "codemirror_mode": {
    "name": "ipython",
    "version": 3
   },
   "file_extension": ".py",
   "mimetype": "text/x-python",
   "name": "python",
   "nbconvert_exporter": "python",
   "pygments_lexer": "ipython3",
   "version": "3.8.5"
  }
 },
 "nbformat": 4,
 "nbformat_minor": 4
}
