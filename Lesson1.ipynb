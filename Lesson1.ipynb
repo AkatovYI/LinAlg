{
 "cells": [
  {
   "cell_type": "code",
   "execution_count": null,
   "metadata": {},
   "outputs": [],
   "source": []
  },
  {
   "cell_type": "markdown",
   "metadata": {},
   "source": [
    "# Линейное пространство. Основные понятия. Часть 1"
   ]
  },
  {
   "cell_type": "markdown",
   "metadata": {},
   "source": [
    "__1.__ Исследовать на линейную зависимость:\n",
    "\n",
    "$$f_{1}(x)=e^{x}, f_{2}(x)=1, f_{3}(x)=x+1, f_{4}(x)=x-e^{x}.$$\n"
   ]
  },
  {
   "cell_type": "markdown",
   "metadata": {},
   "source": [
    "__Решение__\n",
    " \n",
    "Заметим, что $f_{4}(x)=f_{3}(x)-f_{2}(x)-f_{1}(x)$, то есть вектор $f_{4}(x)$ — линейная комбинация векторов $f_{1}(x)$, $f_{2}(x)$ и $f_{3}(x)$, из чего можно сделать вывод, что $f_{1}(x)=e^{x}, f_{2}(x)=1, f_{3}(x)=x+1, f_{4}(x)=x-e^{x}$ линейно зависимы."
   ]
  },
  {
   "cell_type": "code",
   "execution_count": null,
   "metadata": {},
   "outputs": [],
   "source": []
  },
  {
   "cell_type": "markdown",
   "metadata": {},
   "source": [
    "__2.__ Исследовать на линейную зависимость:\n",
    "$$f_{1}(x)=2, f_{2}(x)=x, f_{3}(x)=x^{2}, f_{4}(x)=(x+1)^{2}$$"
   ]
  },
  {
   "cell_type": "markdown",
   "metadata": {},
   "source": [
    "__Решение__\n",
    " \n",
    "Представим, что $f_{4}(x)=x^2 + 2*x + 1$, получаем $f_{4}(x)=f_{3}(x) + f_{1}(x)*f_{2}(x) + 1$ то есть вектор $f_{4}(x)$ — линейная комбинация векторов $f_{1}(x)$, $f_{2}(x)$ и $f_{3}(x)$, из чего можно сделать вывод, что $f_{1}(x)=2, f_{2}(x)=x, f_{3}(x)=x^{2}, f_{4}(x)=(x+1)^{2}$ линейно зависимы."
   ]
  },
  {
   "cell_type": "code",
   "execution_count": null,
   "metadata": {},
   "outputs": [],
   "source": []
  },
  {
   "cell_type": "markdown",
   "metadata": {},
   "source": [
    "__3.__ Найти координаты вектора $x = (2, 3, 5)\\in \\mathbb{R}^{3}$ в базисе $b_{1}=(0, 0, 10)$, $b_{2}=(2, 0, 0)$, $b_{3}=(0, 1, 0)$."
   ]
  },
  {
   "cell_type": "markdown",
   "metadata": {},
   "source": [
    "__Решение__\n",
    "\n",
    "Для разложения вектора по базису запишем векторное уравнение: $x=x*b_1 + y*b_2 + z*b_3$\n",
    "\n",
    "$(2,3,5)=x(0,0,10)+y(2,0,0)+z(0,1,0)$\n",
    "\n",
    "$(2,3,5)=(x*0,x*0,x*10)+(y*2,y*0,y*0)+(z*0,z,z*0)$\n",
    "\n",
    "$(2,3,5)=(0+2*y+0,0+0+z,10*x+0+0)$\n",
    "\n",
    "$2=2*y, 3=z, 5=10*x$;      $y=1, z=3, x=0.5$\n",
    "\n",
    "Получаем: $x=0.5*b_1+b_2+3*b_3$;  $x=(0.5, 1, 3)$\n",
    "\n"
   ]
  },
  {
   "cell_type": "code",
   "execution_count": null,
   "metadata": {},
   "outputs": [],
   "source": []
  },
  {
   "cell_type": "markdown",
   "metadata": {},
   "source": [
    "##__4.__ Найти координаты вектора $3x^{2}-2x+2\\in\\mathbb{R}^{3}[x]$:\n",
    "\n",
    "а) в базисе $1$, $x$, $x^{2}$;\n",
    "\n",
    "б) в базисе $x^{2}$, $x-1$, $1$."
   ]
  },
  {
   "cell_type": "markdown",
   "metadata": {},
   "source": [
    "__Решение__\n",
    "\n",
    "__а)__ $x=(3x^2,-2x,2)$; $b_1=(1,0,0); b_2=(0,x,0); b_3=(0,0,x^2)$\n",
    "\n",
    "После всех преобразований получаем $x=3xb_1-2b_2+\\frac{1}{x^2}b_3$; $x=(3x,-2,\\frac{1}{x^2})$\n",
    "\n",
    "__б)__ $x=(3x^2,-2x,2)$; $b_1=(x^2,0,0); b_2=(0,x-1,0); b_3=(0,0,1)$\n",
    "\n",
    "После всех преобразований получаем $x=3b_1-\\frac{2x}{x-1}b_2+b_3$; $x=(3,-\\frac{2x}{x-1},1)$"
   ]
  },
  {
   "cell_type": "code",
   "execution_count": null,
   "metadata": {},
   "outputs": [],
   "source": []
  },
  {
   "cell_type": "markdown",
   "metadata": {},
   "source": [
    "##__5.__ Установить, является ли линейным подпространством:\n",
    "\n",
    "а) совокупность всех векторов трехмерного пространства, у которых по крайней мере одна из первых двух координат равна нулю;\n",
    "    \n",
    "б) все векторы, являющиеся линейными комбинациями данных векторов $\\{u_{1}, u_{2}, \\ldots, u_{n}\\}$."
   ]
  },
  {
   "cell_type": "markdown",
   "metadata": {},
   "source": [
    "__Решение__\n",
    "\n"
   ]
  },
  {
   "cell_type": "code",
   "execution_count": null,
   "metadata": {},
   "outputs": [],
   "source": []
  },
  {
   "cell_type": "markdown",
   "metadata": {},
   "source": [
    "# Линейное пространство. Основные понятия. Часть 2"
   ]
  },
  {
   "cell_type": "markdown",
   "metadata": {},
   "source": [
    "__1.__ Найти скалярное произведение векторов $x, y \\in \\mathbb{R}$:<br>\n",
    "а) $x=(0,-3, 6),~y=(-4, 7, 9);$<br>\n",
    "б) $x=(7, -4, 0, 1),~y=(-3, 1, 11, 2).$"
   ]
  },
  {
   "cell_type": "markdown",
   "metadata": {},
   "source": [
    "Скалярное произведение двух векторов определяется как произведение длин этих векторов на косинус угла между ними:\n",
    "\n",
    "$$(x, y) = \\left|x\\right|\\cdot\\left|y\\right|\\cdot cos\\alpha.$$"
   ]
  },
  {
   "cell_type": "markdown",
   "metadata": {},
   "source": [
    "__а)__ То есть скалярное произведение между двумя векторами $x=(0,-3,6)$ и $y=(-4,7,9)$, принадлежащими пространству $\\mathbb{R}^{3}$, будет равняться \n",
    "\n",
    "$$(x,y)=0\\cdot(-4)+(-3)\\cdot7+6\\cdot9=0 - 21 + 54=33.$$"
   ]
  },
  {
   "cell_type": "code",
   "execution_count": 13,
   "metadata": {},
   "outputs": [
    {
     "name": "stdout",
     "output_type": "stream",
     "text": [
      "Скалярное произведение a и b:33\n",
      "Скалярное произведение a и b:33\n",
      "Скалярное произведение a и b:33\n"
     ]
    }
   ],
   "source": [
    "import numpy as np\n",
    "a = np.array([0, -3, 6])\n",
    "b = np.array([-4, 7, 9])\n",
    "print(f'Скалярное произведение a и b:{np.dot(a, b)}')\n",
    "print(f'Скалярное произведение a и b:{a.dot(b)}')\n",
    "print(f'Скалярное произведение a и b:{a @ b}')"
   ]
  },
  {
   "cell_type": "markdown",
   "metadata": {},
   "source": [
    "__б)__ То есть скалярное произведение между двумя векторами $x=(7,-4,0,1)$ и $y=(-3,1,11,2)$, принадлежащими пространству $\\mathbb{R}^{4}$, будет равняться \n",
    "\n",
    "$$(x,y)=7\\cdot(-3)+(-4)\\cdot1+0\\cdot11+1\\cdot2=-21 - 4 + 0 + 2=-23.$$"
   ]
  },
  {
   "cell_type": "code",
   "execution_count": 20,
   "metadata": {},
   "outputs": [
    {
     "name": "stdout",
     "output_type": "stream",
     "text": [
      "Скалярное произведение a и b:-23\n",
      "Скалярное произведение a и b:-23\n",
      "Скалярное произведение a и b:-23\n"
     ]
    }
   ],
   "source": [
    "a = np.array([7, -4, 0, 1])\n",
    "b = np.array([-3, 1, 11, 2])\n",
    "print(f'Скалярное произведение a и b:{np.dot(a, b)}')\n",
    "print(f'Скалярное произведение a и b:{a.dot(b)}')\n",
    "print(f'Скалярное произведение a и b:{a @ b}')"
   ]
  },
  {
   "cell_type": "markdown",
   "metadata": {},
   "source": [
    "__2.__ Найти нормы векторов $(4, 2, 4)$ и $(12, 3, 4)$ и угол между ними."
   ]
  },
  {
   "cell_type": "code",
   "execution_count": 13,
   "metadata": {},
   "outputs": [],
   "source": [
    "from numpy.linalg import norm"
   ]
  },
  {
   "cell_type": "code",
   "execution_count": 14,
   "metadata": {},
   "outputs": [],
   "source": [
    "a = np.array([4, 2, 4])\n",
    "b = np.array([12, 3, 4])"
   ]
  },
  {
   "cell_type": "markdown",
   "metadata": {},
   "source": [
    "Определим манхэттенскую норму вектора $a$:\n",
    "\n",
    "$$\\left\\|x\\right\\|_{1} = |4|+|2|+|4|=10.$$\n",
    "\n",
    "Определим манхэттенскую норму вектора $b$:\n",
    "\n",
    "$$\\left\\|x\\right\\|_{1} = |12|+|3|+|4|=19.$$"
   ]
  },
  {
   "cell_type": "code",
   "execution_count": 15,
   "metadata": {},
   "outputs": [
    {
     "name": "stdout",
     "output_type": "stream",
     "text": [
      "l1 Манхетовская норма вектора a:10.0\n",
      "l1 Манхетовская норма вектора b:19.0\n"
     ]
    }
   ],
   "source": [
    "print(f'l1 Манхетовская норма вектора a:{norm(a, ord=1)}')\n",
    "print(f'l1 Манхетовская норма вектора b:{norm(b, ord=1)}')"
   ]
  },
  {
   "cell_type": "markdown",
   "metadata": {},
   "source": [
    "Определим евклидову норму вектора $a$:\n",
    "\n",
    "$$\\left\\|x\\right\\|_{2} = \\sqrt{4^{2}+2^{2}+4^{2}}=\\sqrt{36}=6.$$\n",
    "\n",
    "Определим евклидову норму вектора $b$:\n",
    "\n",
    "$$\\left\\|x\\right\\|_{2} = \\sqrt{12^{2}+3^{2}+4^{2}}=\\sqrt{169}=13.$$"
   ]
  },
  {
   "cell_type": "code",
   "execution_count": 17,
   "metadata": {},
   "outputs": [
    {
     "name": "stdout",
     "output_type": "stream",
     "text": [
      "l2 Евклидова норма вектора а:6.0\n",
      "l2 Евклидова норма вектора b:13.0\n"
     ]
    }
   ],
   "source": [
    "print(f'l2 Евклидова норма вектора а:{norm(a, ord=2)}')\n",
    "print(f'l2 Евклидова норма вектора b:{norm(b, ord=2)}')"
   ]
  },
  {
   "cell_type": "markdown",
   "metadata": {},
   "source": [
    "Углом $\\varphi \\in [0, \\pi]$ между двумя векторами назовем угол, косинус которого определяется соотношением\n",
    "\n",
    "$$cos\\varphi = \\frac{(x,y)}{\\left \\|x\\right \\|\\cdot\\left \\|y\\right \\|}.$$"
   ]
  },
  {
   "cell_type": "markdown",
   "metadata": {},
   "source": [
    "$$cos\\varphi = \\frac{4\\cdot12+2\\cdot3+4\\cdot4}{\\sqrt{4^{2}+2^{2}+4^{2}}\\sqrt{12^{2}+3^{2}+4^{2}}}=\\frac{70}{78}\\approx 0.90$$"
   ]
  },
  {
   "cell_type": "code",
   "execution_count": 18,
   "metadata": {},
   "outputs": [
    {
     "name": "stdout",
     "output_type": "stream",
     "text": [
      "Косинус угла между a и b: 0.90\n",
      "Угол между a и b: 0.46\n"
     ]
    }
   ],
   "source": [
    "cos_phi = np.dot(a, b) / norm(a) / norm(b)\n",
    "print(f'Косинус угла между a и b: {cos_phi:.2f}')\n",
    "print(f'Угол между a и b: {np.arccos(cos_phi):.2f}')"
   ]
  },
  {
   "cell_type": "markdown",
   "metadata": {},
   "source": [
    "__3.__ Будет ли линейное пространство евклидовым, если за скалярное произведение принять:<br>\n",
    "а) произведение длин векторов;<br>\n",
    "б) утроенное обычное скалярное произведение векторов?<br>"
   ]
  },
  {
   "cell_type": "markdown",
   "metadata": {},
   "source": [
    "Линейное пространство над полем вещественных чисел называется _евклидовым пространством_, если на нем введено правило, согласно которому каждой упорядоченной паре векторов $x$ и $y$ поставлено в соответствие вещественное число, называемое _скалярным произведением_ и обозначаемое символом $(x, y)$.\n",
    "\n",
    "При этом указанное правило должно подчиняться четырем аксиомам:<br>\n",
    "1) $(x,y)=(y,x);$<br>\n",
    "2) $(\\lambda x, y)=\\lambda(x, y);$<br>\n",
    "3) $(x_{1}+x_{2},y)=(x_{1},y)+(x_{2},y);$<br>\n",
    "4) $(x, x)\\geq0$, причем $(x,x)=0\\Leftrightarrow x=0.$\n"
   ]
  },
  {
   "cell_type": "markdown",
   "metadata": {},
   "source": []
  },
  {
   "cell_type": "markdown",
   "metadata": {},
   "source": [
    "соответственно условие __а)__ и __б)__ выполняется."
   ]
  },
  {
   "cell_type": "markdown",
   "metadata": {},
   "source": [
    "__4.__ Какие из нижеперечисленных векторов образуют ортонормированный базис в линейном пространстве $\\mathbb{R}^{3}$:<br>\n",
    "а) $(1,0,0),(0,0,1);$ <br>\n",
    "б) $(1/\\sqrt{2},-1/\\sqrt{2},0),(1/\\sqrt{2},1/\\sqrt{2},0), (0,0,1);$<br>\n",
    "в) $(1/2, -1/2, 0), (0, 1/2, 1/2), (0,0,1);$<br>\n",
    "г) $(1,0,0),(0,1,0),(0,0,1)?$ "
   ]
  },
  {
   "cell_type": "markdown",
   "metadata": {},
   "source": [
    "В конечномерном евклидовом пространстве базис $\\{e_{1},e_{2},...,e_{n}\\}$ называется ортонормированным, если \n",
    "\n",
    "$(e_{i}, e_{j})=0$ $\\forall$ $i\\neq j$ и $(e_{i},e_{i})=1$ $\\forall$ $i\\in[1, n].$\n",
    "\n",
    "В евклидовом пространстве $E$ элементы $x$ и $y$ называются _ортогональными_, если\n",
    "\n",
    "$$(x,y)=0.$$\n",
    "Это означает, что ортонормированный базис является ортогональным и состоит из векторов единичной длины.\n",
    "\n",
    "Проверим скалярное произведение всех векторов:"
   ]
  },
  {
   "cell_type": "code",
   "execution_count": 14,
   "metadata": {},
   "outputs": [
    {
     "name": "stdout",
     "output_type": "stream",
     "text": [
      "Скалярное произведение a и b:0\n"
     ]
    }
   ],
   "source": [
    "a = np.array([1, 0, 0])\n",
    "b = np.array([0, 0, 1])\n",
    "print(f'Скалярное произведение a и b:{np.dot(a, b)}')"
   ]
  },
  {
   "cell_type": "code",
   "execution_count": 21,
   "metadata": {},
   "outputs": [
    {
     "name": "stdout",
     "output_type": "stream",
     "text": [
      "Скалярное произведение a и b:0.0\n",
      "Скалярное произведение a и c:0.0\n",
      "Скалярное произведение b и c:0.0\n"
     ]
    }
   ],
   "source": [
    "a = np.array([1.414, -1.414, 0])\n",
    "b = np.array([1.414, 1.414, 0])\n",
    "c = np.array([0, 0, 1])\n",
    "print(f'Скалярное произведение a и b:{np.dot(a, b)}')\n",
    "print(f'Скалярное произведение a и c:{np.dot(a, c)}')\n",
    "print(f'Скалярное произведение b и c:{np.dot(b, c)}')"
   ]
  },
  {
   "cell_type": "code",
   "execution_count": 18,
   "metadata": {},
   "outputs": [
    {
     "name": "stdout",
     "output_type": "stream",
     "text": [
      "Скалярное произведение a и b:-1.9993959999999997\n"
     ]
    }
   ],
   "source": [
    "a = np.array([1.414, -1.414, 0])\n",
    "b = np.array([0, 1.414, 1.414])\n",
    "print(f'Скалярное произведение a и b:{np.dot(a, b)}')"
   ]
  },
  {
   "cell_type": "code",
   "execution_count": 22,
   "metadata": {},
   "outputs": [
    {
     "name": "stdout",
     "output_type": "stream",
     "text": [
      "Скалярное произведение a и b:0\n",
      "Скалярное произведение a и c:0\n",
      "Скалярное произведение b и c:0\n"
     ]
    }
   ],
   "source": [
    "a = np.array([1, 0, 0])\n",
    "b = np.array([0, 1, 0])\n",
    "c = np.array([0, 0, 1])\n",
    "print(f'Скалярное произведение a и b:{np.dot(a, b)}')\n",
    "print(f'Скалярное произведение a и c:{np.dot(a, c)}')\n",
    "print(f'Скалярное произведение b и c:{np.dot(b, c)}')"
   ]
  },
  {
   "cell_type": "markdown",
   "metadata": {},
   "source": [
    "Варианты __а)__ __б)__ __г)__ образуют ортонормированный базис в линейном пространстве"
   ]
  },
  {
   "cell_type": "code",
   "execution_count": null,
   "metadata": {},
   "outputs": [],
   "source": []
  },
  {
   "cell_type": "code",
   "execution_count": null,
   "metadata": {},
   "outputs": [],
   "source": []
  }
 ],
 "metadata": {
  "kernelspec": {
   "display_name": "Python 3",
   "language": "python",
   "name": "python3"
  },
  "language_info": {
   "codemirror_mode": {
    "name": "ipython",
    "version": 3
   },
   "file_extension": ".py",
   "mimetype": "text/x-python",
   "name": "python",
   "nbconvert_exporter": "python",
   "pygments_lexer": "ipython3",
   "version": "3.7.4"
  }
 },
 "nbformat": 4,
 "nbformat_minor": 4
}
